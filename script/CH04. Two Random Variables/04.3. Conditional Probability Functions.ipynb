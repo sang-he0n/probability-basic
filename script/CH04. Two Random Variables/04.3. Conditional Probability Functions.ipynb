{
 "cells": [
  {
   "attachments": {},
   "cell_type": "markdown",
   "metadata": {},
   "source": [
    "# CH04.3. **Conditional Probability Functions**"
   ]
  },
  {
   "cell_type": "markdown",
   "metadata": {},
   "source": [
    "> ## **조건부 확률 함수(Conditional Probability Functions)**"
   ]
  },
  {
   "cell_type": "markdown",
   "metadata": {},
   "source": [
    "#### **(1) 정의** : 결합 확률 함수에서 **하나의 확률 변수가 특정 값을 가진다고 가정할 때** 다른 확률 변수에 대한 확률 분포\n",
    "##### $ \\hspace{0.15cm} $ ① 조건부 확률 질량 함수(conditional PMF)\n",
    "#### $ \\hspace{0.45cm} \\Rightarrow{} P_{X|Y}(x \\; | \\; y) = \\frac{P_{XY}(x, y)}{P_{Y}(y)} \\;\\; \\text{ for any } \\; x \\in{} R_{X}, \\;\\; y \\in{} R_{Y} $\n",
    "##### $ \\hspace{0.15cm} $ ② 조건부 확률 밀도 함수(conditional PDF)\n",
    "#### $ \\hspace{0.45cm} \\Rightarrow{} f_{X|Y}(x \\; | \\; y) = \\frac{f_{XY}(x, y)}{f_{Y}(y)} $"
   ]
  },
  {
   "cell_type": "markdown",
   "metadata": {},
   "source": [
    "#### **(2) 예시** :\n",
    "##### $ \\hspace{0.15cm} $ ① 결합 확률 질량 함수 $ P_{XY}(x, y) $가 아래와 같이 정의될 때\n",
    "##### $ \\hspace{0.45cm} \\begin{array}{|c|c|c|c|} \\hline{} P_{XY}(x,y) & y=1 & y=2 & y=5 \\\\ \\hline{} x=0 & 0.1 & 0 & 0.2 \\\\ \\hline{} x=1 & 0.5 & 0.2 & 0 \\\\ \\hline \\end{array} $\n",
    "##### $ \\hspace{0.3cm} \\cdot{} \\, x = 0 $일 때 확률 변수 $ Y $의 조건부 확률 질량 함수는?\n",
    "##### $ \\hspace{0.45cm} P_{X}(x) = \\begin{cases} 0.3 & \\text{if } \\; x=0 \\\\ 0.7 & \\text{if } \\; x=1 \\end{cases} $\n",
    "##### $ \\hspace{0.45cm} \\therefore{} P_{Y|X}(y \\; | \\; 0) = \\begin{cases} \\frac{P_{XY}(0, 1)}{P_{X}(0)} = \\frac{0.1}{0.3} = \\frac{1}{3} \\\\ \\frac{P_{XY}(0, 2)}{P_{X}(0)} = \\frac{0}{0.3} = 0 \\\\ \\frac{P_{XY}(0, 5)}{P_{X}(0)} = \\frac{0.2}{0.3} = \\frac{2}{3} \\end{cases} $\n",
    "##### $ \\hspace{0.3cm} \\cdot{} \\, x = 1 $일 때 확률 변수 $ Y $의 조건부 확률 질량 함수는?\n",
    "##### $ \\hspace{0.45cm} \\therefore{} P_{Y|X}(y \\; | \\; 1) = \\begin{cases} \\frac{P_{XY}(1, 1)}{P_{X}(1)} = \\frac{0.5}{0.7} = \\frac{5}{7} \\\\ \\frac{P_{XY}(1, 2)}{P_{X}(1)} = \\frac{2}{0.7} = \\frac{2}{7} \\\\ \\frac{P_{XY}(1, 5)}{P_{X}(1)} = \\frac{0}{0.7} = 0 \\end{cases} $\n",
    "##### $ \\hspace{0.15cm} $ ② 결합 확률 밀도 함수 $ f_{XY}(x,y) $에 대하여 아래와 같이 정의될 때\n",
    "##### $ \\hspace{0.45cm} f_{XY}(x, y) = \\begin{cases} \\frac{6}{5}(x+y^{2}) & \\text{if } \\; 0 \\leq{}x\\leq{}1, \\;\\; 0\\leq{}y\\leq{}1 \\\\ 0 & \\text{otherwise} \\end{cases} $\n",
    "##### $ \\hspace{0.3cm} \\cdot{} $ 조건부 확률 밀도 함수 $ f_{Y|X}(y \\; | \\; 0.5) $는?\n",
    "##### $ \\hspace{0.45cm} f_{X}(x) = \\int^{1}_{0}f_{XY}(x, y)\\text{d}y $\n",
    "##### $ \\hspace{1.45cm} = \\begin{bmatrix} \\frac{6}{5}(x \\cdot{} y +\\frac{1}{3}y^{3}) \\end{bmatrix}^{1}_{0} $\n",
    "##### $ \\hspace{1.45cm} = \\frac{6}{5}(x+\\frac{1}{3}) $\n",
    "##### $ \\hspace{0.45cm} \\therefore{} f_{Y|X}(y \\; | 0.5) = \\frac{f_{XY}(0.5, y)}{f_{X}(0.5)} = \\frac{\\frac{6}{5}(\\frac{1}{2}+y^{2})}{\\frac{6}{5}(\\frac{1}{2}+\\frac{1}{3})} = \\frac{\\frac{1}{2}+y^{2}}{\\frac{1}{2}+\\frac{1}{3}} = \\frac{3}{5} + \\frac{6}{5}y^{2} $\n",
    "##### $ \\hspace{0.3cm} \\cdot{} $ 확률 $ P(Y\\leq{}0.5 \\; | \\; X=0.5) $의 값은?\n",
    "##### $ \\hspace{0.45cm} P(Y\\leq{}0.5 \\; | \\; X=0.5) = \\int^{0.5}_{0} (\\frac{3}{5} + \\frac{6}{5}y^{2})\\text{d}y $\n",
    "##### $ \\hspace{3.85cm} = \\begin{bmatrix} \\frac{3}{5} + \\frac{6}{5} \\cdot{} \\frac{1}{3}y^{3} \\end{bmatrix}^{0.5}_{0} $\n",
    "##### $ \\hspace{3.85cm} = 0.35 $"
   ]
  },
  {
   "cell_type": "markdown",
   "metadata": {},
   "source": [
    "<b></b>"
   ]
  },
  {
   "cell_type": "markdown",
   "metadata": {},
   "source": [
    "> ## (Theorem 4-1) **Law of Total Probability**"
   ]
  },
  {
   "cell_type": "markdown",
   "metadata": {},
   "source": [
    "#### 표본 공간을 분할하는 확률 변수 $ Y $가 존재할 때, 이에 결합된 확률 변수 $ X $의 주변 확률 함수를 아래와 같이 정의할 수 있다.\n",
    "##### $ \\hspace{0.15cm} $ ① 조건부 확률 질량 함수(conditional PMF)\n",
    "##### $ \\hspace{0.45cm} \\Rightarrow{} \\displaystyle{} P_{X}(x) = \\sum_{y_{k}\\in{}R_{Y}}P_{XY}(x, y_{k}) = \\sum_{y_{k}\\in{}R_{Y}}P_{Y}(y_{k})P_{X|Y}(x \\; | \\; y_{k}) $\n",
    "##### $ \\hspace{0.15cm} $ ② 조건부 확률 밀도 함수(conditional PDF)\n",
    "##### $ \\hspace{0.45cm} \\Rightarrow{} \\displaystyle{} f_{X}(x) = \\int_{R_{Y}} f_{XY}(x,y) \\text{d}y = \\int_{R_{Y}} f_{y} f_{X|Y}(x|y) \\text{d}y $ "
   ]
  },
  {
   "cell_type": "markdown",
   "metadata": {},
   "source": [
    "##### **(`WHY?`)** \n",
    "##### $ \\hspace{0.15cm} $ <img src=\"../../img/04.1. Two Discrete Random Variables (4).png\" width=\"30%\" height=\"30%\"></img>"
   ]
  },
  {
   "cell_type": "markdown",
   "metadata": {},
   "source": [
    "<b></b>"
   ]
  },
  {
   "cell_type": "markdown",
   "metadata": {},
   "source": [
    "> ## **조건부 기대값(Conditional Expectation)**"
   ]
  },
  {
   "cell_type": "markdown",
   "metadata": {},
   "source": [
    "#### **(1) 정의** : 하나의 이산 확률 변수가 특정 값을 가질 때 다른 이산 확률 변수의 기대값\n",
    "##### $ \\hspace{0.15cm} $ ① 조건부 확률 질량 함수(conditional PMF)\n",
    "#### $ \\hspace{0.45cm} \\Rightarrow{} E[X \\; | \\; Y = y_{k}] = \\displaystyle{} \\sum_{x_{i}\\in{}R_{X}} x_{i} P_{X|Y}(x_{i} \\; | \\; y_{k}) $\n",
    "##### $ \\hspace{0.15cm} $ ② 조건부 확률 밀도 함수(conditional PDF)\n",
    "#### $ \\hspace{0.45cm} \\Rightarrow{} E[X \\; | \\; Y = y_{k} ] = \\int_{{}R_{X}} x_{i} f_{X|Y}(x_{i} \\; | \\; y_{k}) \\text{d}x $"
   ]
  },
  {
   "cell_type": "markdown",
   "metadata": {},
   "source": [
    "#### **(2) 예시** :\n",
    "##### $ \\hspace{0.15cm} $ ① 공평한 주사위를 $ 1 $회 던진 결과를 확률 변수 $ X $라고 정의할 때 주사위눈이 $ 3 $ 이하일 때 확률변수 $ X $의 기댓값을 구하면\n",
    "##### $ \\hspace{0.45cm} \\Omega{} = \\{ 1, 2, 3, 4, 5, 6 \\} $\n",
    "##### $ \\hspace{0.45cm} R_{X} = \\omega{} $\n",
    "##### $ \\hspace{0.45cm} R_{Y} = \\begin{cases} 1 & \\text{if } \\; R_{X} \\leq{} 3 \\\\ 0 & \\text{otherwise} \\end{cases} $\n",
    "##### $ \\hspace{0.45cm} P_{X|Y}(x \\; | \\; y) = \\frac{P_{XY}(x, y)}{P_{Y}(y)} = \\begin{cases} \\frac{P_{XY}(1, y)}{P_{Y}(y)} = \\frac{\\frac{1}{6}}{\\frac{1}{2}} = \\frac{1}{3} \\\\ \\frac{P_{XY}(2, y)}{P_{Y}(y)} = \\frac{\\frac{1}{6}}{\\frac{1}{2}} = \\frac{1}{3} \\\\ \\frac{P_{XY}(3, y)}{P_{Y}(y)} = \\frac{\\frac{1}{6}}{\\frac{1}{2}} = \\frac{1}{3} \\end{cases} $\n",
    "##### $ \\hspace{0.45cm} \\therefore{} E[X \\; | \\; Y] = \\displaystyle{} \\sum^{3}_{x=1} xP_{X|Y}(x \\; | \\; y) = 1 \\times{} \\frac{1}{3} + 2 \\times{} \\frac{1}{3} + 3 \\times{} \\frac{1}{3} = 2 $\n",
    "##### $ \\hspace{0.15cm} $ ② 앞면이 나올 확률이 $ p $이며 동전을 던질 때 확률 변수 $ X $는 앞면이 나올 때까지 던진 횟수이고, 첫 시행 결과에 대한 조건부 확률을 구하면\n",
    "##### $ \\hspace{0.45cm} \\Omega{} = \\{ (\\text{H}), (\\text{T,H}), (\\text{T,T,H}), \\cdots{} \\} $\n",
    "##### $ \\hspace{0.45cm} R_{X} = \\text{length}(\\omega{}), \\;\\; X \\sim{} \\text{Geom}(p) $\n",
    "##### $ \\hspace{0.45cm} R_{Y} = \\begin{cases} 1 & \\text{if } \\; \\omega{}_{1} = \\text{H} \\\\ 0 & \\text{if } \\; \\omega{}_{1} = \\text{T} \\end{cases} \\;\\; \\text{ where } \\; (\\omega{}_{1}, \\omega{}_{2}, \\cdots{}) \\in{} \\Omega{} $ \n",
    "##### $ \\hspace{0.45cm} P_{X|Y}(x \\; | \\; y) = \\begin{cases} 1 & \\text{if } \\; x = 1 \\; \\text{ and } \\; y = 1 \\\\ 0 & \\text{if } \\; x \\neq{} 1 \\; \\text{ and } \\; y = 1 \\\\ 0 & \\text{if } \\; x < 2 \\; \\text{ and } \\; y = 0 \\\\ (1-p)^{x-2}p & \\text{if } \\; x \\geq{} 2 \\; \\text{ and } \\; y = 0 \\end{cases} $\n",
    "##### $ \\hspace{0.45cm} E[X \\; | \\; Y = 1 ] = \\displaystyle{} \\sum^{\\infty{}}_{x=1} xP_{X|Y}(x \\; | \\; 1) = 1 \\times{} 1 = 1 $\n",
    "##### $ \\hspace{0.45cm} E[X \\; | \\; Y = 0 ] = \\displaystyle{} \\sum^{\\infty{}}_{x=2} xP_{X|Y}(x \\; | \\; 0) = \\sum^{\\infty{}}_{x=2} x (1-p)^{x-2} p = \\cdots{} = \\frac{1+p}{p} \\;\\; $ ($ \\because{} (X|Y=0) \\sim{} 1+\\text{Geom}(p) $) \n",
    "##### $ \\hspace{0.45cm} \\therefore{} E[X \\; | \\; Y ] = \\begin{cases} 1 & \\text{if } \\; y = 1 \\\\ \\frac{1+p}{p} & \\text{if } \\; y = 0 \\end{cases} $ \n",
    "##### $ \\hspace{0.15cm} $ ③ **[LATEX]**"
   ]
  },
  {
   "cell_type": "markdown",
   "metadata": {},
   "source": [
    "<b></b>"
   ]
  },
  {
   "cell_type": "markdown",
   "metadata": {},
   "source": [
    "> ## (Theorem 4-2) **Law of Total Expectation**"
   ]
  },
  {
   "cell_type": "markdown",
   "metadata": {},
   "source": [
    "#### 표본 공간을 분할하는 확률 변수 $ Y $가 존재하고 확률 변수 $ X $가 존재할 때 기댓값은 다음과 같이 정의할 수 있다.\n",
    "#### **(1)** 조건부 확률 질량 함수(conditional PMF)\n",
    "#### $ \\Rightarrow{} \\displaystyle{} E[X] = \\sum_{y\\in{}R_{Y}} P_{Y}(y) E[ X \\; | \\; Y = y ] \\;\\; \\text{ s.t. } \\; E[|X|] < \\infty{} $ "
   ]
  },
  {
   "cell_type": "markdown",
   "metadata": {},
   "source": [
    "##### **(`WHY?`)**\n",
    "##### $ \\hspace{0.15cm} \\displaystyle{} E[X] = \\sum_{x\\in{}R_{X}} x P_{X}(x) = \\sum_{x\\in{}R_{X}} x \\sum_{y\\in{}R_{Y}} P_{XY}(x, y) = \\sum_{x\\in{}R_{X}} x \\sum_{y\\in{}R_{Y}} P_{Y}(y) P_{X|Y}(x| y) $\n",
    "##### $ \\hspace{1.05cm} = \\displaystyle{} \\sum_{y\\in{}R_{Y}} P_{Y}(y) \\sum_{x\\in{}R_{X}} x P_{XY}(x y) \\;\\; $ ($ \\because{} $ 기댓값 존재로 인해 이중합 교환 가능)\n",
    "##### $ \\hspace{1.05cm} = \\displaystyle{} \\sum_{y\\in{}R_{Y}} P_{Y}(y) E[ X \\; | \\; Y = y ] $ "
   ]
  },
  {
   "cell_type": "markdown",
   "metadata": {},
   "source": [
    "#### **(2)** 조건부 확률 밀도 함수(conditional PDF)\n",
    "#### $ \\Rightarrow{} \\displaystyle{} E[X] = \\int_{{}R_{Y}} f_{Y}(y) E[ X \\; | \\; Y = y ] \\text{d}y $"
   ]
  },
  {
   "cell_type": "markdown",
   "metadata": {},
   "source": [
    "##### **(`WHY?`)**\n",
    "##### $ \\hspace{0.15cm} \\displaystyle{} E[X] = $ **[LATEX]**"
   ]
  },
  {
   "cell_type": "markdown",
   "metadata": {},
   "source": [
    "<b></b>"
   ]
  },
  {
   "cell_type": "markdown",
   "metadata": {},
   "source": [
    "> ## (Theorem 4-4) **Law of Iterated Expectation**"
   ]
  },
  {
   "cell_type": "markdown",
   "metadata": {},
   "source": [
    "#### 표본 공간을 분할하는 확률 변수 $ Y $가 존재하고 확률 변수 $ X $가 존재할 때 기댓값은 다음과 같이 정의할 수 있다.\n",
    "#### $ \\Rightarrow{} E[X] = E[E[X|Y]] \\;\\; \\text{ s.t. } \\; E[|X|] < \\infty{} $"
   ]
  },
  {
   "cell_type": "markdown",
   "metadata": {},
   "source": [
    "##### **(`WHY?`)** \n",
    "##### $ \\hspace{0.15cm} $ ① 조건부 확률 질량 함수(conditional PMF)\n",
    "##### $ \\hspace{0.45cm} \\Rightarrow{} \\displaystyle{} E[X] = \\sum_{y\\in{}R_{Y}} P_{Y}(y) E[ X \\; | \\; Y = y ] $\n",
    "##### $ \\hspace{0.15cm} $ ② 조건부 확률 밀도 함수(conditional PDF)\n",
    "##### $ \\hspace{0.45cm} \\Rightarrow{} \\displaystyle{} E[X] = \\int_{{}R_{Y}} f_{Y}(y) E[ X \\; | \\; Y = y ] \\text{d}y $"
   ]
  },
  {
   "cell_type": "markdown",
   "metadata": {},
   "source": [
    "<b></b>"
   ]
  },
  {
   "cell_type": "markdown",
   "metadata": {},
   "source": [
    "> ## **조건부 분산(Conditional Variance)**"
   ]
  },
  {
   "cell_type": "markdown",
   "metadata": {},
   "source": [
    "#### **(1) 정의** : 조건부 기댓값으로 부터 벗어난 정도(오차)를 제곱한 값\n",
    "#### $ \\Rightarrow{} \\text{var}[X \\; | \\; Y = y_{k}] = E[X^{2} \\; | \\; Y = y_{k}] - (E[X \\; | \\; Y = y_{k}])^{2} $"
   ]
  },
  {
   "cell_type": "markdown",
   "metadata": {},
   "source": [
    "<b></b>"
   ]
  },
  {
   "cell_type": "markdown",
   "metadata": {},
   "source": [
    "> ## **결합 이산 확률 변수의 독립(Independnece of Joint Discrete RV)**"
   ]
  },
  {
   "cell_type": "markdown",
   "metadata": {},
   "source": [
    "#### **(1) 정의** : 한 이산 확률 변수가 일어날 확률이 다른 이산 확률 변수가 일어날 확률에 영향을 미치지 않는 관계\n",
    "##### $ \\hspace{0.15cm} $ ① 조건부 확률 질량 함수(conditional PMF)\n",
    "##### $ \\hspace{0.45cm} \\Rightarrow{} P_{XY}(x, y) = P_{X}(x)P_{Y}(y) $\n",
    "##### $ \\hspace{0.15cm} $ ② 조건부 확률 밀도 함수(conditional PDF)\n",
    "##### $ \\hspace{0.45cm} \\Rightarrow{} \\displaystyle{} f_{XY}(x, y) = f_{X}(x)f_{Y}(y) $"
   ]
  },
  {
   "cell_type": "markdown",
   "metadata": {},
   "source": [
    "#### **(2) 예시** :\n",
    "##### $ \\hspace{0.15cm} $ ① 결합 확률 질량 함수 $ P_{XY}(x, y) $가 아래의 표로 정의될 때\n",
    "##### $ \\hspace{0.45cm} \\begin{array}{|c|c|c|c|} \\hline{} P_{XY}(x,y) & y=1 & y=2 & y=5 \\\\ \\hline{} x=0 & 0.1 & 0 & 0.2 \\\\ \\hline{} x=1 & 0.5 & 0.2 & 0 \\\\ \\hline \\end{array} $\n",
    "##### $ \\hspace{0.3cm} \\cdot{} $ 확률 변수 $ X, Y $가 독립 관계인지 확인하면?\n",
    "##### $ \\hspace{0.45cm} P_{Y}(y) = \\begin{cases} 0.6 & \\text{if } \\; y=1 \\\\ 0.2 & \\text{if } \\; y=2 \\\\ 0.2 & \\text{if } \\; y=5 \\end{cases} $\n",
    "##### $ \\hspace{0.45cm} P_{Y|X}(y \\; | \\; 0) = \\begin{cases} \\frac{1}{3} & \\text{if } \\; y=1 \\\\ 0 & \\text{if } \\; y=2 \\\\ \\frac{2}{3} & \\text{if } \\; y=5 \\end{cases} $\n",
    "##### $ \\hspace{0.45cm} P_{Y|X}(1 \\; | \\; 0) = \\frac{1}{3} \\neq{} P_{Y}(1) = 0.6 $\n",
    "##### $ \\hspace{0.45cm} \\therefore{} X, Y \\, \\text{ are not independent}. $\n",
    "##### $ \\hspace{0.15cm} $ ② **[LATEX]**"
   ]
  },
  {
   "cell_type": "markdown",
   "metadata": {},
   "source": [
    "<b></b>"
   ]
  },
  {
   "cell_type": "markdown",
   "metadata": {},
   "source": [
    "> ## (Theorem 4-5) **Law of Total Variance**"
   ]
  },
  {
   "cell_type": "markdown",
   "metadata": {},
   "source": [
    "#### 표본 공간을 분할하는 확률 변수 $ Y $가 존재할 때, 이에 결합된 연속 확률 변수 $ X $의 분산은 다음과 같이 정의할 수 있다.\n",
    "#### $ \\Rightarrow{} \\text{var}[X] = \\text{var}[E[X|Y]] + E[\\text{var}[X|Y]]$"
   ]
  },
  {
   "cell_type": "markdown",
   "metadata": {},
   "source": [
    "##### **(`WHY?`)**\n",
    "##### $ \\hspace{0.15cm} $ **[LATEX]**"
   ]
  }
 ],
 "metadata": {
  "kernelspec": {
   "display_name": "PYTCH",
   "language": "python",
   "name": "python3"
  },
  "language_info": {
   "codemirror_mode": {
    "name": "ipython",
    "version": 3
   },
   "file_extension": ".py",
   "mimetype": "text/x-python",
   "name": "python",
   "nbconvert_exporter": "python",
   "pygments_lexer": "ipython3",
   "version": "3.12.11"
  },
  "orig_nbformat": 4
 },
 "nbformat": 4,
 "nbformat_minor": 2
}
