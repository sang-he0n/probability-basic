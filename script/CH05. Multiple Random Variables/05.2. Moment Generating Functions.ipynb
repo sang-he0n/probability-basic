{
 "cells": [
  {
   "attachments": {},
   "cell_type": "markdown",
   "metadata": {},
   "source": [
    "# CH05.2. **Moment Generating Function**"
   ]
  },
  {
   "cell_type": "markdown",
   "metadata": {},
   "source": [
    "> ## **$ n $차 적률($ n $-th Moment)**"
   ]
  },
  {
   "cell_type": "markdown",
   "metadata": {},
   "source": [
    "#### **(1) 정의** : 어떠한 확률 변수의 $ n $차 기대값\n",
    "#### $ \\Rightarrow{} E[X^{n}] $"
   ]
  },
  {
   "cell_type": "markdown",
   "metadata": {},
   "source": [
    "<b></b>"
   ]
  },
  {
   "cell_type": "markdown",
   "metadata": {},
   "source": [
    "> ## **$ n $차 중심 적률($ n $-th Central Moment)**"
   ]
  },
  {
   "cell_type": "markdown",
   "metadata": {},
   "source": [
    "#### **(1) 정의** : 어떠한 확률 변수의 평균으로부터의 거리의 $ n $차 기대값\n",
    "#### $ \\Rightarrow{} E[(X-E[X])^{n}] $"
   ]
  },
  {
   "cell_type": "markdown",
   "metadata": {},
   "source": [
    "#### **(2) 중심 적률의 의미** : \n",
    "##### $ \\hspace{0.15cm} $ ① $ 2 $차 중심 적률 : 분산\n",
    "##### $ \\hspace{0.45cm} \\Rightarrow{} \\text{variance} = E[(X-E[X])^{2}] $\n",
    "##### $ \\hspace{0.15cm} $ ② $ 3 $차 중심 적률 : **데이터의 비대칭성**을 계량적으로 나타내며, 이를 정규화하면 왜도(skewness)로 정의됨\n",
    "##### $ \\hspace{0.45cm} \\Rightarrow{} \\text{sknewness} = \\frac{E[(X-E[X])^{3}]}{\\sigma{}^{3}} \\;\\; \\text{ where } \\; \\sigma{} \\, \\text{ is standard deviation}. $\n",
    "##### $ \\hspace{0.15cm} $ ③ $ 4 $차 중심 적률 : **데이터의 꼬리 두꺼움 및 뾰족함**을 나타내며, 이를 정규화하면 첨도(kurtosis)로 정의됨\n",
    "##### $ \\hspace{0.45cm} \\Rightarrow{} \\text{kuritosis} = \\frac{E[(X-E[X])^{4}]}{\\sigma{}^{4}} $"
   ]
  },
  {
   "cell_type": "markdown",
   "metadata": {},
   "source": [
    "<b></b>"
   ]
  },
  {
   "cell_type": "markdown",
   "metadata": {},
   "source": [
    "> ## (Theorem 5-1) **Existence of Moments**"
   ]
  },
  {
   "cell_type": "markdown",
   "metadata": {},
   "source": [
    "#### $ k $차 적률이 존재하고 유한할 때, $ \\, 0 $보다 크고 $ k $보다 낮은 $ l $차 절댓값 적률 역시 존재한다. \n",
    "#### $ \\Rightarrow{} E[|X|^{l}] < \\infty{} \\;\\; \\text{ s.t. } \\; E[|X|^{k}] < \\infty{}, \\;\\; 0 \\leq{} l < k $"
   ]
  },
  {
   "cell_type": "markdown",
   "metadata": {},
   "source": [
    "<b></b>"
   ]
  },
  {
   "cell_type": "markdown",
   "metadata": {},
   "source": [
    "> ## **적률 생성 함수(Moment Generating Function; MGF)**"
   ]
  },
  {
   "cell_type": "markdown",
   "metadata": {},
   "source": [
    "#### **(1) 정의** : 확률 변수의 **적률**들이 존재하는 범위 내에서, 그 모든 적률을 생성하는 함수\n",
    "#### $ = $ 어떠한 실수 구간에서 확률 변수의 분포를 특징짓는 함수\n",
    "#### $ \\Rightarrow{} M_{X}(s) = E[e^{sX}] \\;\\; \\text{ s.t. } \\; \\forall{} \\; s \\in{} (-s_{0}, s_{0}), \\;\\; s_{0} > 0 $"
   ]
  },
  {
   "cell_type": "markdown",
   "metadata": {},
   "source": [
    "##### **(`WHY?`)**\n",
    "##### $ \\hspace{0.15cm} e^{sX} = \\sum^{\\infty{}}_{k=0} \\frac{(sX)^{k}}{k!} = \\sum^{\\infty{}}_{k=0} \\frac{s^{k}X^{k}}{k!} \\;\\; $ ($ \\because{} e^{x} = 1 + x + \\frac{x^{2}}{2!} + \\cdots{} = \\sum^{\\infty{}}_{k=0} \\frac{x^{k}}{k!} $)\n",
    "##### $ \\hspace{0.15cm} M_{X}(s) = E[e^{sX}] = E[\\sum^{\\infty{}}_{k=0} \\frac{s^{k}X^{k}}{k!}] = \\sum^{\\infty{}}_{k=0} \\frac{s^{k}}{k!} E[X^{k}] $\n",
    "##### $ \\hspace{1.3cm} = E[1] + sE[X] + \\frac{s^{2}}{2!} E[X^{2}] + \\frac{s^{3}}{3!} E[X^{3}] +\\cdots{} $\n",
    "##### $ \\hspace{0.15cm} \\frac{\\text{d}}{\\text{d}s} M_{X}(s) = M'_{X}(s) = E[X] + \\frac{2s}{2!}E[X^{2}] + \\frac{3s^{2}}{3!}E[X^{3}] + \\cdots{} $\n",
    "##### $ \\hspace{0.15cm} M'_{X}(0) = E[X] $\n",
    "##### $ \\hspace{0.15cm} M''_{X}(s) = \\frac{2}{2!}E[X^{2}] + \\frac{3\\cdot{}2\\cdot{}s}{3!}E[X^{3}] + \\cdots{} $\n",
    "##### $ \\hspace{0.15cm} M''_{X}(0) = E[X^{2}] $\n",
    "##### $ \\hspace{0.45cm} \\vdots{} $\n",
    "##### $ \\hspace{0.15cm} \\therefore{} M^{(k)}_{X}(0) = E[X^{k}] $"
   ]
  },
  {
   "cell_type": "markdown",
   "metadata": {},
   "source": [
    "#### **(2) 확률 변수 별 계산** : \n",
    "##### $ \\hspace{0.15cm} $ ① 이산 확률 변수 : \n",
    "##### $ \\hspace{0.45cm} \\Rightarrow{} M_{X}(s) = \\sum_{x_{i}\\in{}X(s)} e^{sx}P_{X}(x_{i}) $\n",
    "##### $ \\hspace{0.15cm} $ ② 연속 확률 변수 : \n",
    "##### $ \\hspace{0.45cm} \\Rightarrow{} M_{X}(s) = \\int^{\\infty{}}_{-\\infty{}} e^{sx}f_{X}(x) \\text{d}x $"
   ]
  },
  {
   "cell_type": "markdown",
   "metadata": {},
   "source": [
    "<b></b>"
   ]
  },
  {
   "cell_type": "markdown",
   "metadata": {},
   "source": [
    "> ## (Theorem 5-2) **Uniqueness of MGF**"
   ]
  },
  {
   "cell_type": "markdown",
   "metadata": {},
   "source": [
    "#### 두 확률 변수의 적률 생성 함수가 반드시 존재하며 같을 경우, 두 확률 변수는 같은 분포를 갖는다. \n",
    "#### $ \\Rightarrow{} X \\stackrel{\\text{d}}{=} Y \\;\\; \\text{ s.t. } \\; M_{X}(s), M_{Y}(s) \\, \\text{ exist}, \\;\\; M_{X}(s) = M_{Y}(s) \\;\\; \\forall{} \\; s \\in{} (-s_{0}, s_{0}) $"
   ]
  },
  {
   "cell_type": "markdown",
   "metadata": {},
   "source": [
    "<b></b>"
   ]
  },
  {
   "cell_type": "markdown",
   "metadata": {},
   "source": [
    "> ## **특성 함수(Characteristic Function;CF)**"
   ]
  },
  {
   "cell_type": "markdown",
   "metadata": {},
   "source": [
    "#### **(1) 정의** : 적률 생성 함수가 수렴하지 않을 경우에도 확률분포의 특성을 항상 결정할 수 있는 함수\n",
    "#### $ \\Rightarrow{} \\Omega{}_{X}(w) = E[e^{iwX}] \\;\\; \\text{ where } \\; i = \\sqrt{-1} $"
   ]
  },
  {
   "cell_type": "markdown",
   "metadata": {},
   "source": [
    "##### **(`PLUS`) 적률 생성 함수와의 관계** :\n",
    "##### $ \\hspace{0.15cm} M_{X}(0) = \\Omega{}_{X}(0) = 1 $\n",
    "##### $ \\hspace{0.15cm} M'_{X}(0) = E[X], \\;\\; \\Omega{}'_{X}(0) = iE[X] $\n",
    "##### $ \\hspace{0.15cm} M''_{X}(0) = E[X^{2}], \\;\\; \\Omega{}''_{X}(0) = i^{2}E[X^{2}] $\n",
    "##### $ \\hspace{0.45cm} \\vdots{} $\n",
    "##### $ \\hspace{0.15cm} M^{(k)}_{X}(0) = E[X^{k}], \\;\\; \\Omega^{(k)}_{X}(0) = i^{k}E[X^{k}] $"
   ]
  },
  {
   "cell_type": "markdown",
   "metadata": {},
   "source": [
    "<b></b>"
   ]
  },
  {
   "cell_type": "markdown",
   "metadata": {},
   "source": [
    "> ## (Theorem 5-3) **Uniqueness of CF**"
   ]
  },
  {
   "cell_type": "markdown",
   "metadata": {},
   "source": [
    "#### 두 확률 변수의 특성 함수가 같을 경우, 두 확률 변수는 같은 분포를 갖는다. \n",
    "#### $ \\Rightarrow{} X \\stackrel{\\text{d}}{=} Y \\;\\; \\text{ if } \\; \\Omega{}_{X}(s) = \\Omega{}_{Y}(s), \\;\\; \\forall{} \\; s \\in{} (-s_{0}, s_{0}) $"
   ]
  },
  {
   "cell_type": "markdown",
   "metadata": {},
   "source": [
    "<b></b>"
   ]
  },
  {
   "cell_type": "markdown",
   "metadata": {},
   "source": [
    "> ## **확률 생성 함수(Probability Generating Functions;PGF)**"
   ]
  },
  {
   "cell_type": "markdown",
   "metadata": {},
   "source": [
    "#### **(1) 정의** : 비음수 값을 갖는 이산 확률 변수에 대해, 각 확률 질량 함수를 계수로 갖는 멱급수로 표현되는 확률 분포의 생성 함수\n",
    "#### $ = $ 비음수 정수의 범위를 갖는 이산 확률 변수의 분포를 특징짓는 함수\n",
    "#### $ \\Rightarrow{} G_{X}(s) = E[s^{X}] = \\sum_{k=0}^{\\infty} s^{k} P_{X}(k) \\;\\; \\text{ s.t. } \\; X\\geq{}0 \\; \\text{ and } \\; R_{X} \\, \\text{ is countable} $"
   ]
  },
  {
   "cell_type": "markdown",
   "metadata": {},
   "source": [
    "##### **(`WHY?`)**\n",
    "##### $ \\hspace{0.15cm} G_{X}(s) = \\sum_{x_{i}\\in{}R_{X}} s^{x_{i}}P_{X}(x_{i}) = s^{0}P_{X}(0) + s^{1}P_{X}(1) + s^{3}P_{X}(3) + \\cdots{} $\n",
    "##### $ \\hspace{1.2cm} = P_{X}(0) + sP_{X}(1) + s^{2}P_{X}(2) + s^{3}P_{X}(3) + \\cdots{} $\n",
    "##### $ \\hspace{0.15cm} G_{X}(0) = P_{X}(0) $\n",
    "##### $ \\hspace{0.15cm} \\frac{\\text{d}}{\\text{d}s} G_{X}(s) = G'_{X}(s) = P_{X}(1) + 2sP_{X}(2) + 3s^{2}P_{X}(3) + \\cdots{} = \\sum^{\\infty{}}_{n=0} n s^{n-1} P_{X}(n) $\n",
    "##### $ \\hspace{0.15cm} G'_{X}(0) = P_{X}(1) $\n",
    "##### $ \\hspace{0.15cm} G''_{X}(s) = 2P_{X}(2) + 3\\cdot{}2\\cdot{}s P_{X}(3) + \\cdots{} $\n",
    "##### $ \\hspace{0.15cm} G''_{X}(0) = 2P_{X}(2) $\n",
    "##### $ \\hspace{0.45cm} \\vdots{} $\n",
    "##### $ \\hspace{0.15cm} G^{(k)}_{X}(s) = \\sum^{\\infty{}}_{n=k} \\frac{n!}{(n-k)!} s^{n-k} P_{X}(n) $\n",
    "##### $ \\hspace{0.15cm} \\therefore{} G^{(k)}_{X}(0) = k!P_{X}(k) $"
   ]
  },
  {
   "cell_type": "markdown",
   "metadata": {},
   "source": [
    "<b></b>"
   ]
  },
  {
   "cell_type": "markdown",
   "metadata": {},
   "source": [
    "> ## (Theorem 5-4) **Product Rule of PGF**"
   ]
  },
  {
   "cell_type": "markdown",
   "metadata": {},
   "source": [
    "#### 이산 확률 변수 $ X_{1}, X_{2}, \\cdots{}, X_{n} $이 독립 관계이고 비음수 정수의 범위를 갖는다면, 그 확률 변수들의 합의 확률 생성 함수는 아래와 같다.\n",
    "#### $ \\hspace{0.15cm} \\Rightarrow{} G_{X}(s) = G_{X_{1}}(s)G_{X_{2}}(s)\\cdots{}G_{X_{n}}(s) $\n",
    "#### $ \\hspace{0.6cm} \\text{where } \\; X = \\sum^{n}_{i=1}X_{i}, \\;\\; X_{i} \\, \\text{ is independent} \\; \\text{ and } \\; X(\\Omega) \\, \\text{ is countable}. $"
   ]
  }
 ],
 "metadata": {
  "kernelspec": {
   "display_name": "Python 3",
   "language": "python",
   "name": "python3"
  },
  "language_info": {
   "codemirror_mode": {
    "name": "ipython",
    "version": 3
   },
   "file_extension": ".py",
   "mimetype": "text/x-python",
   "name": "python",
   "nbconvert_exporter": "python",
   "pygments_lexer": "ipython3",
   "version": "3.8.12"
  },
  "orig_nbformat": 4
 },
 "nbformat": 4,
 "nbformat_minor": 2
}
