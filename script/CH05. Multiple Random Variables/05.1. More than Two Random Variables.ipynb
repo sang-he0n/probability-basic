{
 "cells": [
  {
   "attachments": {},
   "cell_type": "markdown",
   "metadata": {},
   "source": [
    "# CH05.1. **More than Two Random Variables**"
   ]
  },
  {
   "cell_type": "markdown",
   "metadata": {},
   "source": [
    "> ## **결합 분포의 확장(Extension of Joint RV)**"
   ]
  },
  {
   "cell_type": "markdown",
   "metadata": {
    "vscode": {
     "languageId": "plaintext"
    }
   },
   "source": [
    "#### **(1) $ n $개 확률 변수에 대한 결합 분포의 정의** :\n",
    "#### $ \\hspace{0.15cm} $ ① 결합 이산 확률 변수 :\n",
    "#### $ \\hspace{0.15cm} \\Rightarrow{} P_{X_{1}X_{2}\\cdots{}X_{n}}(x_{1},x_{2},\\cdots{},x_{n}) = P(X_{1}=x_{1},X_{2}=x_{2},\\cdots{}, X_{n}=x_{n}) $\n",
    "#### $ \\hspace{0.15cm} $ ② 결합 누적 분포 함수 :\n",
    "#### $ \\hspace{0.45cm} \\Rightarrow{} F_{X_{1}X_{2}\\cdots{}X_{n}}(x_{1},x_{2},\\cdots{},x_{n}) = P(X_{1}\\leq{}x_{1},X_{2}\\leq{}x_{2},\\cdots{},X_{n}\\leq{}x_{n}) $\n",
    "#### $ \\hspace{4.75cm} = F(X_{1}=x_{1},X_{2}=x_{2},\\cdots{}, X_{n}=x_{n}) $\n",
    "#### $ \\hspace{0.15cm} $ ③ 결합 연속 확률 변수 :\n",
    "#### $ \\hspace{0.45cm} \\Rightarrow{} f_{X_{1}X_{2}\\cdots{}X_{n}}(x_{1},x_{2},\\cdots{},x_{n}) = \\frac{\\partial{}^{n}}{\\partial{}x_{1} \\partial{}x_{2} \\cdots{} \\partial{}x_{n}} F_{X_{1}X_{2}\\cdots{}X_{n}}(x_{1},x_{2},\\cdots{},x_{n}) $\n",
    "#### $ \\hspace{4.7cm} = f(X_{1}=x_{1}, X_{2}=x_{2}, \\cdots{}, X_{n}=x_{n}) $"
   ]
  },
  {
   "cell_type": "markdown",
   "metadata": {},
   "source": [
    "#### **(2) $ n $개 확률 변수에 대한 주변 분포의 정의** :\n",
    "##### $ \\hspace{0.15cm} $ ① 주변 이산 확률 변수 :\n",
    "##### $ \\hspace{0.45cm} \\Rightarrow{} P_{X_{1}}(x_{1}) = \\displaystyle{} \\sum_{x_{2}\\in{}R_{X_{2}}}\\sum_{x_{3}\\in{}R_{X_{3}}}\\cdots{}\\sum_{x_{n}\\in{}R_{X_{n}}} P_{X_{1}X_{2}\\cdots{}X_{n}}(x_{1}, x_{2}, \\cdots{}, x_{n}) $\n",
    "##### $ \\hspace{0.15cm} $ ② 주변 누적 분포 함수 :\n",
    "##### $ \\hspace{0.45cm} \\Rightarrow{} F_{X_{1}}(x_{1}) = \\displaystyle{} \\sum_{x_{2}\\in{}R_{X_{2}}}\\sum_{x_{3}\\in{}R_{X_{3}}}\\cdots{}\\sum_{x_{n}\\in{}R_{X_{n}}} P(X_{1}\\leq{}x_{1},X_{2}\\leq{}x_{2},\\cdots{},X_{n}\\leq{}x_{n}) $\n",
    "##### $ \\hspace{0.15cm} $ ③ 주변 연속 확률 변수 :\n",
    "##### $ \\hspace{0.45cm} \\Rightarrow{} f_{X_{1}}(x_{1}) = \\displaystyle{} \\int^{\\infty{}}_{-\\infty{}}\\int^{\\infty{}}_{-\\infty{}}\\cdots{}\\int^{\\infty{}}_{-\\infty{}} f_{X_{1}X_{2}\\cdots{}X_{n}}(x_{1}, x_{2}, \\cdots{}, x_{n}) \\text{d}x_{2}\\text{d}x_{3} \\cdots{} \\text{d}x_{n} $"
   ]
  },
  {
   "cell_type": "markdown",
   "metadata": {},
   "source": [
    "<b></b>"
   ]
  },
  {
   "cell_type": "markdown",
   "metadata": {},
   "source": [
    "> ## **결합 확률 변수들의 독립(Independence of Joint RVs)**"
   ]
  },
  {
   "cell_type": "markdown",
   "metadata": {},
   "source": [
    "#### **(1) $ n $개 확률 변수에 대한 독립 관계의 정의** :\n",
    "##### $ \\hspace{0.15cm} $ ① 결합 이산 확률 변수 :\n",
    "##### $ \\hspace{0.45cm} \\Rightarrow{} P_{X_{1}X_{2}\\cdots{}X_{n}}(x_{1},x_{2}, \\cdots{}, x_{n}) = P_{X_{1}}(x_{1}) P_{X_{2}}(x_{2}) \\cdots{} P_{X_{n}}(x_{n}) $\n",
    "##### $ \\hspace{0.15cm} $ ② 결합 누적 분포 함수 :\n",
    "##### $ \\hspace{0.45cm} \\Rightarrow{} F_{X_{1}X_{2}\\cdots{}X_{n}}(x_{1}, x_{2}, \\cdots{}, x_{n}) = F_{X_{1}}(x_{1}) F_{X_{2}}(x_{2}) \\cdots{} F_{X_{n}}(x_{n}) $\n",
    "##### $ \\hspace{0.15cm} $ ③ 결합 연속 확률 변수 :\n",
    "##### $ \\hspace{0.45cm} \\Rightarrow{} f_{X_{1}X_{2}\\cdots{}X_{n}}(x_{1}, x_{2}, \\cdots{}, x_{n}) = f_{X_{1}}(x_{1}) f_{X_{2}}(x_{2}) \\cdots{} f_{X_{n}}(x_{n}) $"
   ]
  },
  {
   "cell_type": "markdown",
   "metadata": {},
   "source": [
    "##### **(`PLUS`)** $ n $개의 확률 변수가 독립 관계를 만족하면 쌍 독립(pairwise independent) 관계도 만족함 (역은 성립하지 않음)"
   ]
  },
  {
   "cell_type": "markdown",
   "metadata": {},
   "source": [
    "<b></b>"
   ]
  },
  {
   "cell_type": "markdown",
   "metadata": {},
   "source": [
    "> ## **독립 항등 분포(Independent and Identical Distribution;I.I.D)**"
   ]
  },
  {
   "cell_type": "markdown",
   "metadata": {},
   "source": [
    "#### **(1) 정의** : 확률 변수 $ X_{1}, X_{2}, \\cdots{}, X_{n} $가 독립 관계이고 모두 같은 분포를 갖는 관계\n",
    "#### $ \\Rightarrow{} X_{i} \\sim{} \\text{i.i.d.} $ \n",
    "#### $ \\hspace{0.45cm} \\text{s.t. } \\; F_{X_{1}}(x_{1}) = F_{X_{2}}(x_{2}) = \\cdots{} = F_{X_{n}}(x_{n}) \\;\\;\\;\\; \\forall{} x \\in{} \\mathbb{R} $\n",
    "#### $ \\hspace{0.45cm} \\text{and } \\; F_{X_{1}X_{2}\\cdots{}X_{n}}(x_{1}, x_{2}, \\cdots{}, x_{n}) = F_{X_{1}}(x_{1}) F_{X_{2}}(x_{2}) \\cdots{} F_{X_{n}}(x_{n}) $"
   ]
  },
  {
   "cell_type": "markdown",
   "metadata": {},
   "source": [
    "##### **(`PLUS`)** 확률 질량 함수 혹은 확률 밀도 함수로도 동일하게 정의됨"
   ]
  },
  {
   "cell_type": "markdown",
   "metadata": {},
   "source": [
    "<b></b>"
   ]
  },
  {
   "cell_type": "markdown",
   "metadata": {},
   "source": [
    "> ## **확률 변수들의 합(Sum of Random Variables)**"
   ]
  },
  {
   "cell_type": "markdown",
   "metadata": {},
   "source": [
    "#### **(1) 정의** : 여러 확률 변수의 선형 결합 중 계수가 $ 1 $로 구성된 확률 변수의 **합성 함수**\n",
    "#### $ \\Rightarrow{} Y = g(X_{1}, X_{2}, \\cdots{}, X_{n}) = X_{1} + X_{2} + \\cdots{} + X_{n} $"
   ]
  },
  {
   "cell_type": "markdown",
   "metadata": {},
   "source": [
    "#### **(2) 기대값** :\n",
    "#### $ \\Rightarrow{} E[Y] = E[X_{1}+X_{2}+\\cdots{}+X_{n}] = E[X_{1}] + E[X_{2}] + \\cdots{} + E[X_{n}] $\n",
    "#### $ \\hspace{1.325cm} = \\sum^{n}_{i=1}E[X_{i}] $"
   ]
  },
  {
   "cell_type": "markdown",
   "metadata": {},
   "source": [
    "#### **(3) 분산** : \n",
    "#### $ \\Rightarrow{} \\text{var}[Y] = \\text{var}[X_{1}+X_{2}+\\cdots{}+X_{n}] = \\sum^{n}_{i=1}\\text{var}[X_{i}] + 2 \\sum_{1\\leq{}i<k\\leq{}n}\\text{cov}[X_{i}, X_{k}] $"
   ]
  },
  {
   "cell_type": "markdown",
   "metadata": {},
   "source": [
    "##### **(`WHY?`)**\n",
    "##### $ \\hspace{0.15cm} \\text{var}[Y] = \\text{var}[X_{1}] + \\text{var}[X_{2} + \\cdots{} + X_{n}] + 2\\text{cov}[X_{1}, X_{2}+\\cdots{}+X_{n}] $\n",
    "##### $ \\hspace{1.25cm} = \\text{var}[X_{1}] + \\text{var}[X_{2}] + \\text{var}[X_{3} + \\cdots{} + X_{n}] + 2\\text{cov}[X_{1}, X_{2}+\\cdots{}+x_{n}] + 2\\text{cov}[X_{2}, X_{3}+\\cdots{}+X_{n}] $\n",
    "##### $ \\hspace{1.35cm} \\vdots{} $\n",
    "##### $ \\hspace{1.25cm} = \\text{var}[X_{1}] + \\cdots{} + \\text{var}[X_{n}] + 2\\text{cov}[X_{1}, X_{2}+\\cdots{}+x_{n}] + \\cdots{} + 2\\text{cov}[X_{n-1}, X_{n}] $\n",
    "##### $ \\hspace{1.25cm} = \\sum^{n}_{i=1}\\text{var}[X_{i}] + 2 \\sum_{1\\leq{}i<k\\leq{}n}\\text{cov}[X_{i}, X_{k}] $"
   ]
  },
  {
   "cell_type": "markdown",
   "metadata": {},
   "source": [
    "##### **(`PLUS`) $ X_{i} $가 독립 관계일 때의 분산** : \n",
    "##### $ \\hspace{0.15cm} \\text{var}[Y] = \\sum^{n}_{i=1}\\text{var}[X_{i}] $"
   ]
  },
  {
   "cell_type": "markdown",
   "metadata": {},
   "source": [
    "<b></b>"
   ]
  },
  {
   "cell_type": "markdown",
   "metadata": {},
   "source": [
    "> ## (Theorem 5-5) **Generation of the Normal Distribution**"
   ]
  },
  {
   "cell_type": "markdown",
   "metadata": {},
   "source": [
    "#### $ n $개의 확률 변수 $ X_{1}, X_{2}, \\cdots{}, X_{n} $이 독립 관계이며 정규 분포를 이룬다면 그 확률 변수들의 합(확률 변수) 역시 정규 분포를 따른다.\n",
    "#### $ \\Rightarrow{} X \\sim{} \\text{N}(\\sum^{n}_{i=1} \\mu{}_{i}, \\sum^{n}_{i=1} \\sigma{}_{i}^{2}) \\;\\; \\text{ where } \\; X = \\sum^{n}_{i=1}X_{i}, \\;\\;  X_{i} \\sim{} N(\\mu{}_{i}, \\sigma{}^{2}_{i}) $"
   ]
  },
  {
   "cell_type": "markdown",
   "metadata": {},
   "source": [
    "<b></b>"
   ]
  },
  {
   "cell_type": "markdown",
   "metadata": {},
   "source": [
    "> ## **확률 변수들의 곱(Product of Random Variables)**"
   ]
  },
  {
   "cell_type": "markdown",
   "metadata": {},
   "source": [
    "#### **(1) 정의** : 여러 확률 변수의 곱 형태로 정의된 비선형 합성 확률 변수\n",
    "#### $ \\Rightarrow{} Y = g(X_{1}, X_{2}, \\cdots{}, X_{n}) = X_{1}X_{2}\\cdots{}X_{n} $"
   ]
  },
  {
   "cell_type": "markdown",
   "metadata": {},
   "source": [
    "#### **(2) 기대값** :\n",
    "#### $ \\Rightarrow{} E[Y] = E[X_{1}X_{2}\\cdots{}X_{n}] $"
   ]
  },
  {
   "cell_type": "markdown",
   "metadata": {},
   "source": [
    "#### **(`PLUS`)** $ X_{i} $가 독립 관계일 때의 기댓값 : \n",
    "##### $ \\hspace{0.15cm} \\Rightarrow{} E[X_{1}X_{2}\\cdots{}X_{n}] = E[X_{1}]E[X_{2}]\\cdots{}E[X_{n}] $ "
   ]
  },
  {
   "cell_type": "markdown",
   "metadata": {},
   "source": [
    "##### **(`WHY?`)**\n",
    "##### $ \\hspace{0.15cm} \\text{if } \\; X, Y \\, \\text{ is independent}. $\n",
    "##### $ \\hspace{0.3cm} E[XY] = \\sum_{(x_{i}, y_{k})\\in{}(R_{X}\\times{}R_{Y})} x_{i}y_{k}P_{XY}(x_{i}, y_{k}) $\n",
    "##### $ \\hspace{1.5cm} = \\sum_{X_{i}\\in{}R_{X}} \\sum_{y_{k}\\in{}R_{Y}} x_{i}y_{k}P_{X}(x_{i})P_{Y}(y_{k}) $\n",
    "##### $ \\hspace{1.5cm} = \\sum_{X_{i}\\in{}R_{X}} x_{i} P_{X}(x_{i}) \\sum_{y_{k}\\in{}R_{Y}} y_{k} P_{Y}(y_{k}) $\n",
    "##### $ \\hspace{1.5cm} = E[X]E[Y] $\n",
    "##### $ \\hspace{0.15cm} \\therefore{} E[XY] = E[X]E[Y] $"
   ]
  },
  {
   "cell_type": "markdown",
   "metadata": {},
   "source": [
    "#### **(3) 분산** : \n",
    "#### $ \\Rightarrow{} \\text{var}[Y] = \\text{var}[X_{1}X_{2}\\cdots{}X_{n}] = E[X_{1}^{2}X_{2}^{2}\\cdots{}X_{n}^{2}] - (E[X_{1}X_{2}\\cdots{}X_{n}])^{2} $"
   ]
  }
 ],
 "metadata": {
  "kernelspec": {
   "display_name": "Python 3",
   "language": "python",
   "name": "python3"
  },
  "language_info": {
   "codemirror_mode": {
    "name": "ipython",
    "version": 3
   },
   "file_extension": ".py",
   "mimetype": "text/x-python",
   "name": "python",
   "nbconvert_exporter": "python",
   "pygments_lexer": "ipython3",
   "version": "3.8.12"
  },
  "orig_nbformat": 4
 },
 "nbformat": 4,
 "nbformat_minor": 2
}
